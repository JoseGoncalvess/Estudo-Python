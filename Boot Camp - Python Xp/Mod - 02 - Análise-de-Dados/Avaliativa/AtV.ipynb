{
 "cells": [
  {
   "cell_type": "code",
   "execution_count": 67,
   "metadata": {},
   "outputs": [],
   "source": [
    "import numpy as np\n",
    "import pandas as pd"
   ]
  },
  {
   "cell_type": "code",
   "execution_count": 68,
   "metadata": {},
   "outputs": [
    {
     "name": "stdout",
     "output_type": "stream",
     "text": [
      "[0. 0. 0. 0.]\n"
     ]
    }
   ],
   "source": [
    "# == CÒDIGO 1 == #\n",
    "z = np.zeros((4,))\n",
    "print(z)"
   ]
  },
  {
   "cell_type": "code",
   "execution_count": 69,
   "metadata": {},
   "outputs": [
    {
     "name": "stdout",
     "output_type": "stream",
     "text": [
      "z: [0. 1. 0. 0.]\n"
     ]
    }
   ],
   "source": [
    "# == CÒDIGO 2 == #\n",
    "Z = np.zeros((4,))\n",
    "Z[1]=1\n",
    "print(\"z:\",Z)"
   ]
  },
  {
   "cell_type": "code",
   "execution_count": 70,
   "metadata": {},
   "outputs": [
    {
     "name": "stdout",
     "output_type": "stream",
     "text": [
      "z: [0. 1. 1. 1.]\n"
     ]
    }
   ],
   "source": [
    "# == CÒDIGO 3 == #\n",
    "Z = np.zeros((4,))\n",
    "Z[1:]=1\n",
    "print(\"z:\",Z)"
   ]
  },
  {
   "cell_type": "code",
   "execution_count": 71,
   "metadata": {},
   "outputs": [
    {
     "name": "stdout",
     "output_type": "stream",
     "text": [
      "z: [1. 1. 1. 0.]\n"
     ]
    }
   ],
   "source": [
    "# == CÒDIGO 4 == #\n",
    "Z = np.zeros((4,))\n",
    "Z[:3]=1\n",
    "print(\"z:\",Z)"
   ]
  },
  {
   "cell_type": "code",
   "execution_count": 79,
   "metadata": {},
   "outputs": [
    {
     "name": "stdout",
     "output_type": "stream",
     "text": [
      "z: [[2. 2.]\n",
      " [2. 2.]]\n"
     ]
    }
   ],
   "source": [
    "# == CÒDIGO 5 == #\n",
    "Z = np.array([2.] * 4).reshape(2, 2)\n",
    "print(\"z:\",Z)"
   ]
  },
  {
   "cell_type": "code",
   "execution_count": 73,
   "metadata": {},
   "outputs": [
    {
     "name": "stdout",
     "output_type": "stream",
     "text": [
      "z: [[ 1 10]\n",
      " [ 3  4]]\n"
     ]
    }
   ],
   "source": [
    "# == CÒDIGO 6 == #\n",
    "Z = np.array([[1,2],[3,4]])\n",
    "y = Z[0,:]\n",
    "y[1]=10\n",
    "print(\"z:\",Z)"
   ]
  },
  {
   "cell_type": "code",
   "execution_count": 74,
   "metadata": {},
   "outputs": [
    {
     "name": "stdout",
     "output_type": "stream",
     "text": [
      "10.5\n"
     ]
    }
   ],
   "source": [
    "# == CÒDIGO 7 == #\n",
    "Z = np.array([[1,3],[11,10]])\n",
    "print(np.mean(Z[Z> np.pi]))"
   ]
  },
  {
   "cell_type": "code",
   "execution_count": 75,
   "metadata": {},
   "outputs": [],
   "source": [
    "# == CÒDIGO 8 == #\n",
    "data = {'animal': ['cat','snake','dog','fyrrow','cat','dog','snake','dog','dog','snaker'],\n",
    "'age': [2.4,3,0.5,np.nan,5,2,4.5,np.nan,7,3],\n",
    "'visits': [1,2,4,5,3,3,4,2,1,8],\n",
    "'priority': ['yes','no','yes','yes','no','yes','no','yes','yes','yes']\n",
    "}\n",
    "\n",
    "label = ['a','b','c','d','e','f','g','h','i','j']\n"
   ]
  },
  {
   "cell_type": "code",
   "execution_count": 91,
   "metadata": {},
   "outputs": [
    {
     "name": "stdout",
     "output_type": "stream",
     "text": [
      "animal\n",
      "dog       4\n",
      "cat       2\n",
      "snake     2\n",
      "fyrrow    1\n",
      "snaker    1\n",
      "Name: count, dtype: int64\n",
      "            age     visits\n",
      "count  8.000000  10.000000\n",
      "mean   3.425000   3.300000\n",
      "std    2.014767   2.110819\n",
      "min    0.500000   1.000000\n",
      "25%    2.300000   2.000000\n",
      "50%    3.000000   3.000000\n",
      "75%    4.625000   4.000000\n",
      "max    7.000000   8.000000\n",
      "   animal  age  visits priority\n",
      "j  snaker  3.0       8      yes\n",
      "d  fyrrow  NaN       5      yes\n",
      "c     dog  0.5       4      yes\n",
      "g   snake  4.5       4       no\n",
      "e     cat  5.0       3       no\n",
      "f     dog  2.0       3      yes\n",
      "b   snake  3.0       2       no\n",
      "h     dog  NaN       2      yes\n",
      "a     cat  2.4       1      yes\n",
      "i     dog  7.0       1      yes\n"
     ]
    }
   ],
   "source": [
    "# == CÒDIGO 9 == #\n",
    "df = pd.DataFrame(data=data, index=label)\n",
    "df.shape\n",
    "print(df['animal'].value_counts())\n",
    "print( df.describe())\n",
    "print( df.sort_values(by='visits', ascending=False))"
   ]
  },
  {
   "cell_type": "code",
   "execution_count": 94,
   "metadata": {},
   "outputs": [
    {
     "name": "stdout",
     "output_type": "stream",
     "text": [
      "0.06557438524302006\n",
      "[1.1  1.98 1.05]\n"
     ]
    }
   ],
   "source": [
    "# == CÒDIGO 10 == #\n",
    "y_true = np.array([1.,2,1.])\n",
    "y_pred = np.array([1.1,1.98,1.05])\n",
    "print(np.sqrt(((y_true-y_pred)**2).mean()))\n",
    "print(y_pred)"
   ]
  }
 ],
 "metadata": {
  "kernelspec": {
   "display_name": "Python 3",
   "language": "python",
   "name": "python3"
  },
  "language_info": {
   "codemirror_mode": {
    "name": "ipython",
    "version": 3
   },
   "file_extension": ".py",
   "mimetype": "text/x-python",
   "name": "python",
   "nbconvert_exporter": "python",
   "pygments_lexer": "ipython3",
   "version": "3.11.5"
  }
 },
 "nbformat": 4,
 "nbformat_minor": 2
}
