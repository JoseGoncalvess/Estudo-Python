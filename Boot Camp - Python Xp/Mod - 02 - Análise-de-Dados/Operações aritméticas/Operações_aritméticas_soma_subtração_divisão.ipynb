{
 "cells": [
  {
   "cell_type": "code",
   "execution_count": 2,
   "metadata": {},
   "outputs": [],
   "source": [
    "import numpy as np"
   ]
  },
  {
   "cell_type": "markdown",
   "metadata": {},
   "source": [
    "## Funções aritimetricas : soma Subitração e divisão"
   ]
  },
  {
   "cell_type": "code",
   "execution_count": 2,
   "metadata": {},
   "outputs": [
    {
     "name": "stdout",
     "output_type": "stream",
     "text": [
      "x: \n",
      " [[1. 1.]\n",
      " [1. 1.]]\n",
      "y: \n",
      " [[1. 0.]\n",
      " [0. 1.]]\n"
     ]
    }
   ],
   "source": [
    "#Criação de dois arrays x e y\n",
    "x =  np.ones((2,2))\n",
    "y =  np.eye(2)\n",
    "print(\"x: \\n\", x)\n",
    "print(\"y: \\n\", y)"
   ]
  },
  {
   "cell_type": "code",
   "execution_count": 3,
   "metadata": {},
   "outputs": [
    {
     "name": "stdout",
     "output_type": "stream",
     "text": [
      "Soma de dois arrays:\n",
      "  [[2. 1.]\n",
      " [1. 2.]]\n",
      "Soma com float/int:\n",
      "  [[3. 3.]\n",
      " [3. 3.]]\n"
     ]
    }
   ],
   "source": [
    "#Soma\n",
    "print(\"Soma de dois arrays:\\n \", x + y)\n",
    "print(\"Soma com float/int:\\n \", x + 2) #broadcast"
   ]
  },
  {
   "cell_type": "code",
   "execution_count": 4,
   "metadata": {},
   "outputs": [
    {
     "name": "stdout",
     "output_type": "stream",
     "text": [
      "Subtração de dois arrays:\n",
      "  [[0. 1.]\n",
      " [1. 0.]]\n",
      "Subtração com float/int:\n",
      "  [[3. 3.]\n",
      " [3. 3.]]\n"
     ]
    }
   ],
   "source": [
    "#Subtração\n",
    "print(\"Subtração de dois arrays:\\n \", x - y)\n",
    "print(\"Subtração com float/int:\\n \", x + 2) #broadcast"
   ]
  },
  {
   "cell_type": "code",
   "execution_count": 5,
   "metadata": {},
   "outputs": [
    {
     "name": "stdout",
     "output_type": "stream",
     "text": [
      "Divisão de dois arrays:\n",
      "  [[ 1. inf]\n",
      " [inf  1.]]\n",
      "Divisão com float/int:\n",
      "  [[0.5 0.5]\n",
      " [0.5 0.5]]\n"
     ]
    },
    {
     "name": "stderr",
     "output_type": "stream",
     "text": [
      "C:\\Users\\JG Silva\\AppData\\Local\\Temp\\ipykernel_9916\\2777928150.py:2: RuntimeWarning: divide by zero encountered in divide\n",
      "  print(\"Divisão de dois arrays:\\n \", x / y)\n"
     ]
    }
   ],
   "source": [
    "#Divisão\n",
    "print(\"Divisão de dois arrays:\\n \", x / y)\n",
    "print(\"Divisão com float/int:\\n \", x / 2) #broadcast"
   ]
  },
  {
   "cell_type": "code",
   "execution_count": 6,
   "metadata": {},
   "outputs": [
    {
     "ename": "ValueError",
     "evalue": "operands could not be broadcast together with shapes (3,) (2,) ",
     "output_type": "error",
     "traceback": [
      "\u001b[1;31m---------------------------------------------------------------------------\u001b[0m",
      "\u001b[1;31mValueError\u001b[0m                                Traceback (most recent call last)",
      "\u001b[1;32mc:\\Users\\JG Silva\\Documents\\GitHub\\Estudo-Python\\Boot Camp - Python Xp\\Mod - 02 - Análise-de-Dados\\Operações aritméticas\\Operações_aritméticas_soma_subtração_divisão.ipynb Cell 7\u001b[0m line \u001b[0;36m2\n\u001b[0;32m      <a href='vscode-notebook-cell:/c%3A/Users/JG%20Silva/Documents/GitHub/Estudo-Python/Boot%20Camp%20-%20Python%20Xp/Mod%20-%2002%20-%20An%C3%A1lise-de-Dados/Opera%C3%A7%C3%B5es%20aritm%C3%A9ticas/Opera%C3%A7%C3%B5es_aritm%C3%A9ticas_soma_subtra%C3%A7%C3%A3o_divis%C3%A3o.ipynb#W6sZmlsZQ%3D%3D?line=0'>1</a>\u001b[0m \u001b[39m#Qaundo o broadcast não funciona\u001b[39;00m\n\u001b[1;32m----> <a href='vscode-notebook-cell:/c%3A/Users/JG%20Silva/Documents/GitHub/Estudo-Python/Boot%20Camp%20-%20Python%20Xp/Mod%20-%2002%20-%20An%C3%A1lise-de-Dados/Opera%C3%A7%C3%B5es%20aritm%C3%A9ticas/Opera%C3%A7%C3%B5es_aritm%C3%A9ticas_soma_subtra%C3%A7%C3%A3o_divis%C3%A3o.ipynb#W6sZmlsZQ%3D%3D?line=1'>2</a>\u001b[0m np\u001b[39m.\u001b[39;49marray([\u001b[39m1\u001b[39;49m,\u001b[39m2\u001b[39;49m,\u001b[39m3\u001b[39;49m]) \u001b[39m+\u001b[39;49m np\u001b[39m.\u001b[39;49marray([\u001b[39m1\u001b[39;49m,\u001b[39m2\u001b[39;49m]) \n",
      "\u001b[1;31mValueError\u001b[0m: operands could not be broadcast together with shapes (3,) (2,) "
     ]
    }
   ],
   "source": [
    "#Qaundo o broadcast não funciona\n",
    "np.array([1,2,3]) + np.array([1,2]) "
   ]
  },
  {
   "cell_type": "code",
   "execution_count": null,
   "metadata": {},
   "outputs": [],
   "source": [
    "#Soma subtração e divisão\n",
    "print(\"Combinação d eoperações:\\n \",(x+y) /(x - 2))"
   ]
  },
  {
   "cell_type": "markdown",
   "metadata": {},
   "source": [
    "# agora com a mutiplicação Caso particular "
   ]
  },
  {
   "cell_type": "code",
   "execution_count": null,
   "metadata": {},
   "outputs": [],
   "source": [
    "#Multiplicação\n",
    "print(\"Multiplicação de dois arrays:\\n \", x / y)\n",
    "print(\"Multiplicação com float/int:\\n \", x / 2) #broadcast"
   ]
  },
  {
   "cell_type": "code",
   "execution_count": 7,
   "metadata": {},
   "outputs": [],
   "source": [
    "## arrei contendo apenas N = Numer desejado\n",
    "n = 5\n",
    "n * np.one((10,10))"
   ]
  },
  {
   "cell_type": "code",
   "execution_count": null,
   "metadata": {},
   "outputs": [],
   "source": [
    "#Multiplicação matricial\n",
    "print(\"Multiplicação matricial de (np.dot):\\n \", np.dot(x , y))\n",
    "print(\"Multiplicação matricial (@):\\n \", x @ 2)\n",
    "print(\"Multiplicação matricial de (.dot):\\n \", x.dot(2))"
   ]
  },
  {
   "cell_type": "markdown",
   "metadata": {},
   "source": [
    "#porblema"
   ]
  },
  {
   "cell_type": "code",
   "execution_count": null,
   "metadata": {},
   "outputs": [],
   "source": [
    "A = numpy.array([[1,2],[3,-2]])\n",
    "c = numpy.array([[7],[-11]])\n",
    "print(\"A: \\n\", A)\n",
    "print(\"C: \\n\", C)"
   ]
  },
  {
   "cell_type": "code",
   "execution_count": null,
   "metadata": {},
   "outputs": [],
   "source": [
    "#solução\n",
    "x = np.dot(np.linalg.inv(A), c) #clacuca o inversso de A e multiplica por c\n",
    "print(\"(a,b) :\", x.revel())"
   ]
  }
 ],
 "metadata": {
  "kernelspec": {
   "display_name": "Python 3",
   "language": "python",
   "name": "python3"
  },
  "language_info": {
   "codemirror_mode": {
    "name": "ipython",
    "version": 3
   },
   "file_extension": ".py",
   "mimetype": "text/x-python",
   "name": "python",
   "nbconvert_exporter": "python",
   "pygments_lexer": "ipython3",
   "version": "3.11.5"
  },
  "orig_nbformat": 4
 },
 "nbformat": 4,
 "nbformat_minor": 2
}
