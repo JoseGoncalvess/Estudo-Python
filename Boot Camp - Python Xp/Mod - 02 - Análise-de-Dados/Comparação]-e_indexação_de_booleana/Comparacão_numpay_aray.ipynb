{
 "cells": [
  {
   "cell_type": "code",
   "execution_count": 7,
   "metadata": {},
   "outputs": [],
   "source": [
    "import numpy as np"
   ]
  },
  {
   "cell_type": "code",
   "execution_count": 17,
   "metadata": {},
   "outputs": [],
   "source": [
    "#COMAPRAÇÃO DE BOOLEAM\n",
    "a = np.array([1,2,3])\n",
    "b = np.array([2,3,1])\n",
    "s = 3"
   ]
  },
  {
   "cell_type": "code",
   "execution_count": 18,
   "metadata": {},
   "outputs": [
    {
     "name": "stdout",
     "output_type": "stream",
     "text": [
      "Comparação demenor:\n",
      "[ True  True False]\n",
      "[ True  True False]\n"
     ]
    }
   ],
   "source": [
    "#MENOR\n",
    "print(\"Comparação de menor:\")\n",
    "print(a < b)\n",
    "print(a < s)"
   ]
  },
  {
   "cell_type": "code",
   "execution_count": 19,
   "metadata": {},
   "outputs": [
    {
     "name": "stdout",
     "output_type": "stream",
     "text": [
      "Comparação de maior:\n",
      "[False False  True]\n",
      "[False False False]\n"
     ]
    }
   ],
   "source": [
    "#Maior\n",
    "print(\"Comparação de maior:\")\n",
    "print(a > b)\n",
    "print(a > s)"
   ]
  },
  {
   "cell_type": "code",
   "execution_count": 20,
   "metadata": {},
   "outputs": [
    {
     "name": "stdout",
     "output_type": "stream",
     "text": [
      "Comparação de maior:\n",
      "[False False  True]\n",
      "[False False  True]\n"
     ]
    }
   ],
   "source": [
    "#Maior ou igual \n",
    "print(\"Comparação de maior:\")\n",
    "print(a >= b)\n",
    "print(a >= s)"
   ]
  },
  {
   "cell_type": "code",
   "execution_count": 21,
   "metadata": {},
   "outputs": [
    {
     "name": "stdout",
     "output_type": "stream",
     "text": [
      "Comparação de Igaul:\n",
      "[False False False]\n",
      "[False False  True]\n"
     ]
    }
   ],
   "source": [
    "#Igual \n",
    "print(\"Comparação de Igaul:\")\n",
    "print(a == b)\n",
    "print(a == s)"
   ]
  },
  {
   "cell_type": "markdown",
   "metadata": {},
   "source": [
    "#OPERAÇÃO COM FLITROS"
   ]
  },
  {
   "cell_type": "code",
   "execution_count": 24,
   "metadata": {},
   "outputs": [
    {
     "name": "stdout",
     "output_type": "stream",
     "text": [
      "a : [1 2 3]\n",
      "Condição: [ True  True False]\n",
      "d: [1 2]\n"
     ]
    }
   ],
   "source": [
    "#indexando um noo array apenas com os valores que respeitama  condição\n",
    "cond =  a <= 2\n",
    "d = a[cond]\n",
    "print(\"a :\",a)\n",
    "print(\"Condição:\",cond)\n",
    "print(\"d:\",d)"
   ]
  }
 ],
 "metadata": {
  "kernelspec": {
   "display_name": "Python 3",
   "language": "python",
   "name": "python3"
  },
  "language_info": {
   "codemirror_mode": {
    "name": "ipython",
    "version": 3
   },
   "file_extension": ".py",
   "mimetype": "text/x-python",
   "name": "python",
   "nbconvert_exporter": "python",
   "pygments_lexer": "ipython3",
   "version": "3.11.5"
  },
  "orig_nbformat": 4
 },
 "nbformat": 4,
 "nbformat_minor": 2
}
